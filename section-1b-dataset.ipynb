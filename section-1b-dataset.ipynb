{
 "cells": [
  {
   "cell_type": "markdown",
   "id": "0e6ef66c",
   "metadata": {},
   "source": [
    "### Loading and viewing the dataset\n",
    "\n",
    "Here we will be seeing the dataset that we are going to use, as well as the intuition of all the operations we will be performing on the main code. This is just a forked branch from the main path in section 1b."
   ]
  },
  {
   "cell_type": "code",
   "execution_count": 1,
   "id": "37c4ba3e",
   "metadata": {},
   "outputs": [
    {
     "name": "stdout",
     "output_type": "stream",
     "text": [
      "M r. and Mrs. Dursley, of number four, Privet Drive, were proud to say that they were perfectly norm\n"
     ]
    }
   ],
   "source": [
    "with open('cleaned_dataset.txt', 'r') as f:\n",
    "    text = f.read()\n",
    "\n",
    "data = text[:1000]\n",
    "print(data[:100])"
   ]
  },
  {
   "cell_type": "code",
   "execution_count": null,
   "id": "2b065f71",
   "metadata": {},
   "outputs": [],
   "source": []
  }
 ],
 "metadata": {
  "kernelspec": {
   "display_name": ".venv",
   "language": "python",
   "name": "python3"
  },
  "language_info": {
   "codemirror_mode": {
    "name": "ipython",
    "version": 3
   },
   "file_extension": ".py",
   "mimetype": "text/x-python",
   "name": "python",
   "nbconvert_exporter": "python",
   "pygments_lexer": "ipython3",
   "version": "3.10.0"
  }
 },
 "nbformat": 4,
 "nbformat_minor": 5
}
