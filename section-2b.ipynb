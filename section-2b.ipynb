{
 "cells": [
  {
   "cell_type": "markdown",
   "id": "20cc51f5",
   "metadata": {},
   "source": [
    "# **Section 2 - B**\n",
    "\n",
    "----------"
   ]
  },
  {
   "cell_type": "markdown",
   "id": "b9e7ff96",
   "metadata": {},
   "source": [
    "## torch.compile, Python overhead, kernel fusion, 130ms\n",
    "\n"
   ]
  },
  {
   "cell_type": "markdown",
   "id": "c860c9b5",
   "metadata": {},
   "source": [
    "## flash attention, 96ms\n",
    "\n"
   ]
  },
  {
   "cell_type": "markdown",
   "id": "6dd141d1",
   "metadata": {},
   "source": [
    "## nice/ugly numbers. vocab size 50257 → 50304, 93ms\n",
    "\n"
   ]
  }
 ],
 "metadata": {
  "language_info": {
   "name": "python"
  }
 },
 "nbformat": 4,
 "nbformat_minor": 5
}
